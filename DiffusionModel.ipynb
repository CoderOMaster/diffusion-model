{
  "nbformat": 4,
  "nbformat_minor": 0,
  "metadata": {
    "colab": {
      "provenance": [],
      "gpuType": "T4"
    },
    "kernelspec": {
      "name": "python3",
      "display_name": "Python 3"
    },
    "language_info": {
      "name": "python"
    },
    "accelerator": "GPU"
  },
  "cells": [
    {
      "cell_type": "code",
      "execution_count": 103,
      "metadata": {
        "id": "6M3FXs-3mUyG"
      },
      "outputs": [],
      "source": [
        "from matplotlib import pyplot as plt\n",
        "import tensorflow as tf\n",
        "import numpy as np\n"
      ]
    },
    {
      "cell_type": "code",
      "source": [
        "# Load the MNIST dataset\n",
        "mnist = tf.keras.datasets.mnist\n",
        "(X_train, y_train), (X_test, y_test) = mnist.load_data()"
      ],
      "metadata": {
        "id": "RLjQr16AKnFs"
      },
      "execution_count": 104,
      "outputs": []
    },
    {
      "cell_type": "code",
      "source": [
        "def normalisation(img):\n",
        "    img = img/255.0\n",
        "    return img\n",
        "def examples(x):\n",
        "    plt.figure(figsize=(9, 9))\n",
        "    for i in range(9):\n",
        "        plt.subplot(3, 3, i+1)\n",
        "        img = normalisation(x[i])\n",
        "        plt.imshow(img)\n",
        "        plt.axis('off')\n",
        "\n",
        "examples(X_train)"
      ],
      "metadata": {
        "colab": {
          "base_uri": "https://localhost:8080/",
          "height": 730
        },
        "id": "jkrqT-AynzjY",
        "outputId": "35cec9ac-06cf-435b-e6ff-b507ea6d2eb6"
      },
      "execution_count": 106,
      "outputs": [
        {
          "output_type": "display_data",
          "data": {
            "text/plain": [
              "<Figure size 900x900 with 9 Axes>"
            ],
            "image/png": "[encoded data removed]"
          },
          "metadata": {}
        }
      ]
    },
    {
      "cell_type": "code",
      "source": [
        "def corrupt(x, noise_amount):\n",
        "    noise_amount = tf.reshape(noise_amount, [-1, 1, 1, 1])\n",
        "    noise = tf.random.normal(shape=tf.shape(x), mean=0.0, stddev=1.0,dtype=tf.float32)\n",
        "    return x + noise_amount * noise"
      ],
      "metadata": {
        "id": "-hSUeS5DqMe7"
      },
      "execution_count": 107,
      "outputs": []
    },
    {
      "cell_type": "code",
      "source": [
        "import tensorflow as tf\n",
        "\n",
        "class BasicUNet(tf.keras.Model):\n",
        "    \"\"\"A minimal UNet-like implementation in TensorFlow/Keras.\"\"\"\n",
        "\n",
        "    def __init__(self, in_channels=1, out_channels=1):\n",
        "        super(BasicUNet, self).__init__()\n",
        "\n",
        "        # Down layers: Each entry corresponds to one conv layer in the downsampling path\n",
        "        self.down_layers = [\n",
        "            tf.keras.layers.Conv2D(32, kernel_size=5, padding='same', input_shape=(None, None, in_channels)),\n",
        "            tf.keras.layers.Conv2D(64, kernel_size=5, padding='same'),\n",
        "            tf.keras.layers.Conv2D(64, kernel_size=5, padding='same')\n",
        "        ]\n",
        "\n",
        "        # Up layers: Each entry corresponds to one conv layer in the upsampling path\n",
        "        self.up_layers = [\n",
        "            tf.keras.layers.Conv2D(64, kernel_size=5, padding='same'),\n",
        "            tf.keras.layers.Conv2D(32, kernel_size=5, padding='same'),\n",
        "            tf.keras.layers.Conv2D(out_channels, kernel_size=5, padding='same')\n",
        "        ]\n",
        "\n",
        "        self.act = tf.keras.activations.relu\n",
        "\n",
        "        # Down and Up sampling layers\n",
        "        self.downscale = tf.keras.layers.MaxPooling2D(pool_size=(2, 2))\n",
        "        self.upscale = tf.keras.layers.UpSampling2D(size=(2, 2))\n",
        "\n",
        "    def call(self, x, training=False):\n",
        "        # h will store the intermediate outputs for skip connections\n",
        "        h = []\n",
        "\n",
        "        # Downsampling path\n",
        "        for i, layer in enumerate(self.down_layers):\n",
        "            x = layer(x)\n",
        "            x = self.act(x)\n",
        "            if i < 2:\n",
        "                h.append(x)\n",
        "                x = self.downscale(x)\n",
        "\n",
        "        # Upsampling path\n",
        "        for i, layer in enumerate(self.up_layers):\n",
        "            if i > 0:  # Except for the first layer in the upsampling path\n",
        "                x = self.upscale(x)\n",
        "                skip = h.pop()  # Retrieve the corresponding skip connection\n",
        "                x = x + skip\n",
        "            x = layer(x)\n",
        "            x = self.act(x)\n",
        "\n",
        "        return x\n"
      ],
      "metadata": {
        "id": "FLL68JxgF5m9"
      },
      "execution_count": 113,
      "outputs": []
    },
    {
      "cell_type": "code",
      "source": [
        "input_tensor = tf.random.normal([1, 28, 28, 1]) # batch of one image\n",
        "model = BasicUNet(in_channels=1, out_channels=1)\n",
        "output = model(input_tensor)\n",
        "print(output.shape)  # Check output dimensions\n"
      ],
      "metadata": {
        "colab": {
          "base_uri": "https://localhost:8080/"
        },
        "id": "eds_2yXJX4hm",
        "outputId": "0e3b3129-390b-4227-fcc7-bde95ed098b0"
      },
      "execution_count": 114,
      "outputs": [
        {
          "output_type": "stream",
          "name": "stdout",
          "text": [
            "(1, 28, 28, 1)\n"
          ]
        },
        {
          "output_type": "stream",
          "name": "stderr",
          "text": [
            "/usr/local/lib/python3.10/dist-packages/keras/src/layers/convolutional/base_conv.py:107: UserWarning: Do not pass an `input_shape`/`input_dim` argument to a layer. When using Sequential models, prefer using an `Input(shape)` object as the first layer in the model instead.\n",
            "  super().__init__(activity_regularizer=activity_regularizer, **kwargs)\n"
          ]
        }
      ]
    },
    {
      "cell_type": "code",
      "source": [
        "x_train = X_train[..., np.newaxis].astype('float32') / 255.0\n",
        "\n",
        "batch_size = 128\n",
        "n_epochs = 5\n",
        "learning_rate = 1e-3\n",
        "\n",
        "# Create a tf.data.Dataset for training\n",
        "train_dataset = tf.data.Dataset.from_tensor_slices((x_train,x_train))\n",
        "train_dataset = train_dataset.shuffle(buffer_size=1024).batch(batch_size)\n",
        "\n",
        "# Define loss and optimizer\n",
        "loss_fn = tf.keras.losses.MeanSquaredError()\n",
        "optimizer = tf.keras.optimizers.Adam(learning_rate=learning_rate)\n",
        "\n",
        "# Lists to store the loss history\n",
        "losses = []\n",
        "\n",
        "# Custom training loop\n",
        "for epoch in range(n_epochs):\n",
        "    epoch_losses = []\n",
        "\n",
        "    for step, (x, y) in enumerate(train_dataset):\n",
        "        # x is the original clean image, y is also the clean image (autoencoder style)\n",
        "        batch_size_current = tf.shape(x)[0]\n",
        "        # Generate random noise amounts\n",
        "        noise_amount = tf.random.uniform(shape=[batch_size_current], minval=0.0, maxval=1.0)\n",
        "        noisy_x = corrupt(x, noise_amount)\n",
        "\n",
        "        # Record operations for automatic differentiation\n",
        "        with tf.GradientTape() as tape:\n",
        "            pred = model(noisy_x, training=True)\n",
        "            loss = loss_fn(y, pred)  # Compare with clean x\n",
        "\n",
        "        # Compute gradients and update weights\n",
        "        gradients = tape.gradient(loss, model.trainable_variables)\n",
        "        optimizer.apply_gradients(zip(gradients, model.trainable_variables))\n",
        "\n",
        "        epoch_losses.append(loss.numpy())\n",
        "        losses.append(loss.numpy())\n",
        "\n",
        "    avg_loss = np.mean(epoch_losses)\n",
        "    print(f\"Finished epoch {epoch}. Average loss for this epoch: {avg_loss:.5f}\")\n",
        "\n",
        "\n"
      ],
      "metadata": {
        "colab": {
          "base_uri": "https://localhost:8080/"
        },
        "id": "sb3PK9HsXyoq",
        "outputId": "3c12c860-beed-4293-adb0-03089acc96c3"
      },
      "execution_count": 117,
      "outputs": [
        {
          "output_type": "stream",
          "name": "stdout",
          "text": [
            "Finished epoch 0. Average loss for this epoch: 153.20905\n",
            "Finished epoch 1. Average loss for this epoch: 0.01768\n",
            "Finished epoch 2. Average loss for this epoch: 0.01680\n",
            "Finished epoch 3. Average loss for this epoch: 0.01617\n",
            "Finished epoch 4. Average loss for this epoch: 0.01584\n"
          ]
        }
      ]
    },
    {
      "cell_type": "code",
      "source": [
        "# Plot the loss curve\n",
        "plt.plot(losses)\n",
        "plt.ylim(0, 0.1)\n",
        "plt.title('Training Loss')\n",
        "plt.xlabel('Iteration')\n",
        "plt.ylabel('Loss')\n",
        "plt.show()"
      ],
      "metadata": {
        "colab": {
          "base_uri": "https://localhost:8080/",
          "height": 472
        },
        "id": "xgO8YX24eSIK",
        "outputId": "ad83b030-28ba-463d-af08-c153d8af3a39"
      },
      "execution_count": 118,
      "outputs": [
        {
          "output_type": "display_data",
          "data": {
            "text/plain": [
              "<Figure size 640x480 with 1 Axes>"
            ],
            "image/png": "[encoded data removed]"
          },
          "metadata": {}
        }
      ]
    }
  ]
}